{
 "cells": [
  {
   "cell_type": "code",
   "execution_count": 18,
   "metadata": {
    "collapsed": true
   },
   "outputs": [],
   "source": [
    "import numba\n",
    "import numpy as np\n",
    "from matplotlib import pyplot as plt\n",
    "\n",
    "@numba.vectorize([numba.float64(numba.complex128),numba.float32(numba.complex64)])\n",
    "\n",
    "def abs2(x):\n",
    "    return x.real**2 + x.imag**2\n",
    "\n",
    "def acf_fft(a):\n",
    "    \"\"\"\n",
    "    Takes an array of data, and performs fast fourier transform.\n",
    "    Returns autocorrelation.\n",
    "    \"\"\"\n",
    "    fft= np.fft.fft\n",
    "    t= len(a)\n",
    "    FR= fft(a)\n",
    "    S= abs2(FR)\n",
    "    R= np.fft.ifft(S)\n",
    "    R= R/max(R)\n",
    "    return FR, S, R\n",
    "\n",
    "def plot_fft_acf(a):\n",
    "    acf= acf_fft(a)\n",
    "    fig,axes= plt.subplots(len(acf))\n",
    "    for i in range(len(acf)):\n",
    "        d= len(acf[i])/2\n",
    "        axes[i].plot(acf[i][0:d])\n",
    "    plt.show()\n",
    "\n"
   ]
  }
 ],
 "metadata": {
  "kernelspec": {
   "display_name": "Python 2",
   "language": "python",
   "name": "python2"
  },
  "language_info": {
   "codemirror_mode": {
    "name": "ipython",
    "version": 2
   },
   "file_extension": ".py",
   "mimetype": "text/x-python",
   "name": "python",
   "nbconvert_exporter": "python",
   "pygments_lexer": "ipython2",
   "version": "2.7.13"
  }
 },
 "nbformat": 4,
 "nbformat_minor": 2
}
